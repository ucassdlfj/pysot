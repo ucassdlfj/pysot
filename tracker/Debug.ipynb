{
 "cells": [
  {
   "cell_type": "code",
   "execution_count": 1,
   "metadata": {
    "collapsed": true
   },
   "outputs": [],
   "source": [
    "import numpy as np"
   ]
  },
  {
   "cell_type": "code",
   "execution_count": 2,
   "metadata": {
    "collapsed": true
   },
   "outputs": [],
   "source": [
    "hanning = np.hanning(25)\n",
    "window = np.outer(hanning,hanning)"
   ]
  },
  {
   "cell_type": "code",
   "execution_count": 25,
   "metadata": {},
   "outputs": [
    {
     "data": {
      "text/plain": [
       "array([ 0.        ,  0.01703709,  0.0669873 ,  0.14644661,  0.25      ,\n",
       "        0.37059048,  0.5       ,  0.62940952,  0.75      ,  0.85355339,\n",
       "        0.9330127 ,  0.98296291,  1.        ,  0.98296291,  0.9330127 ,\n",
       "        0.85355339,  0.75      ,  0.62940952,  0.5       ,  0.37059048,\n",
       "        0.25      ,  0.14644661,  0.0669873 ,  0.01703709,  0.        ])"
      ]
     },
     "execution_count": 25,
     "metadata": {},
     "output_type": "execute_result"
    }
   ],
   "source": [
    "hanning"
   ]
  },
  {
   "cell_type": "code",
   "execution_count": 14,
   "metadata": {},
   "outputs": [],
   "source": [
    "xx, yy = np.meshgrid([-16+ 8 * dx for dx in range(5)], [-16+ 8 * dx for dx in range(5)])"
   ]
  },
  {
   "cell_type": "code",
   "execution_count": 15,
   "metadata": {},
   "outputs": [
    {
     "data": {
      "text/plain": [
       "array([[-16,  -8,   0,   8,  16],\n",
       "       [-16,  -8,   0,   8,  16],\n",
       "       [-16,  -8,   0,   8,  16],\n",
       "       [-16,  -8,   0,   8,  16],\n",
       "       [-16,  -8,   0,   8,  16]])"
      ]
     },
     "execution_count": 15,
     "metadata": {},
     "output_type": "execute_result"
    }
   ],
   "source": [
    "xx"
   ]
  },
  {
   "cell_type": "code",
   "execution_count": 32,
   "metadata": {},
   "outputs": [
    {
     "data": {
      "text/plain": [
       "array([[-16, -16, -16, -16, -16],\n",
       "       [ -8,  -8,  -8,  -8,  -8],\n",
       "       [  0,   0,   0,   0,   0],\n",
       "       [  8,   8,   8,   8,   8],\n",
       "       [ 16,  16,  16,  16,  16]])"
      ]
     },
     "execution_count": 32,
     "metadata": {},
     "output_type": "execute_result"
    }
   ],
   "source": [
    "yy"
   ]
  },
  {
   "cell_type": "code",
   "execution_count": 19,
   "metadata": {},
   "outputs": [
    {
     "data": {
      "text/plain": [
       "array([[-16,  -8,   0,   8,  16],\n",
       "       [-16,  -8,   0,   8,  16],\n",
       "       [-16,  -8,   0,   8,  16],\n",
       "       [-16,  -8,   0,   8,  16],\n",
       "       [-16,  -8,   0,   8,  16],\n",
       "       [-16,  -8,   0,   8,  16],\n",
       "       [-16,  -8,   0,   8,  16],\n",
       "       [-16,  -8,   0,   8,  16],\n",
       "       [-16,  -8,   0,   8,  16],\n",
       "       [-16,  -8,   0,   8,  16],\n",
       "       [-16,  -8,   0,   8,  16],\n",
       "       [-16,  -8,   0,   8,  16],\n",
       "       [-16,  -8,   0,   8,  16],\n",
       "       [-16,  -8,   0,   8,  16],\n",
       "       [-16,  -8,   0,   8,  16],\n",
       "       [-16,  -8,   0,   8,  16],\n",
       "       [-16,  -8,   0,   8,  16],\n",
       "       [-16,  -8,   0,   8,  16],\n",
       "       [-16,  -8,   0,   8,  16],\n",
       "       [-16,  -8,   0,   8,  16]])"
      ]
     },
     "execution_count": 19,
     "metadata": {},
     "output_type": "execute_result"
    }
   ],
   "source": [
    "np.tile( xx , 2 * 2).reshape((-1,5))"
   ]
  }
 ],
 "metadata": {
  "kernelspec": {
   "display_name": "Python 3",
   "language": "python",
   "name": "python3"
  },
  "language_info": {
   "codemirror_mode": {
    "name": "ipython",
    "version": 3
   },
   "file_extension": ".py",
   "mimetype": "text/x-python",
   "name": "python",
   "nbconvert_exporter": "python",
   "pygments_lexer": "ipython3",
   "version": "3.6.4"
  },
  "ssap_exp_config": {
   "error_alert": "Error Occurs!",
   "initial": [],
   "max_iteration": 1000,
   "recv_id": "",
   "running": [],
   "summary": [],
   "version": "1.1.1"
  }
 },
 "nbformat": 4,
 "nbformat_minor": 2
}
